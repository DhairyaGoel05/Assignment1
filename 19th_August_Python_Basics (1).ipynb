{
 "cells": [
  {
   "cell_type": "code",
   "execution_count": 1,
   "id": "cb05588b",
   "metadata": {},
   "outputs": [],
   "source": [
    "#Declare two variables, `x` and `y`, and assign them integer values. Swap the values of these variables without using any temporary variable.\n"
   ]
  },
  {
   "cell_type": "code",
   "execution_count": 2,
   "id": "d87a364e",
   "metadata": {},
   "outputs": [],
   "source": [
    "x=10\n",
    "y=5\n",
    "x=x+y\n",
    "y=x-y\n",
    "x=x-y"
   ]
  },
  {
   "cell_type": "code",
   "execution_count": 3,
   "id": "816b5be8",
   "metadata": {},
   "outputs": [
    {
     "data": {
      "text/plain": [
       "5"
      ]
     },
     "execution_count": 3,
     "metadata": {},
     "output_type": "execute_result"
    }
   ],
   "source": [
    "x"
   ]
  },
  {
   "cell_type": "code",
   "execution_count": 4,
   "id": "d520e6ca",
   "metadata": {},
   "outputs": [
    {
     "data": {
      "text/plain": [
       "10"
      ]
     },
     "execution_count": 4,
     "metadata": {},
     "output_type": "execute_result"
    }
   ],
   "source": [
    "y"
   ]
  },
  {
   "cell_type": "code",
   "execution_count": 5,
   "id": "2ebd7263",
   "metadata": {},
   "outputs": [],
   "source": [
    "#Create a program that calculates the area of a rectangle. Take the length and width as inputs from the user and store them in variables. Calculate and display the area."
   ]
  },
  {
   "cell_type": "code",
   "execution_count": 6,
   "id": "f3f73f44",
   "metadata": {},
   "outputs": [
    {
     "name": "stdout",
     "output_type": "stream",
     "text": [
      "10\n"
     ]
    }
   ],
   "source": [
    "length=int(input())"
   ]
  },
  {
   "cell_type": "code",
   "execution_count": 7,
   "id": "4544320b",
   "metadata": {},
   "outputs": [
    {
     "name": "stdout",
     "output_type": "stream",
     "text": [
      "24\n"
     ]
    }
   ],
   "source": [
    "breadth=int(input())"
   ]
  },
  {
   "cell_type": "code",
   "execution_count": 9,
   "id": "ec32bf55",
   "metadata": {},
   "outputs": [],
   "source": [
    "area=breadth*length"
   ]
  },
  {
   "cell_type": "code",
   "execution_count": 11,
   "id": "445f9fd4",
   "metadata": {},
   "outputs": [
    {
     "name": "stdout",
     "output_type": "stream",
     "text": [
      "240\n"
     ]
    }
   ],
   "source": [
    "print(area)"
   ]
  },
  {
   "cell_type": "code",
   "execution_count": 12,
   "id": "691a2aae",
   "metadata": {},
   "outputs": [],
   "source": [
    "#Write a Python program that converts temperatures from Celsius to Fahrenheit. Take the temperature in Celsius as input, store it in a variable, convert it to Fahrenheit,and display the result."
   ]
  },
  {
   "cell_type": "code",
   "execution_count": 13,
   "id": "f04e6a54",
   "metadata": {},
   "outputs": [
    {
     "name": "stdout",
     "output_type": "stream",
     "text": [
      "32\n"
     ]
    }
   ],
   "source": [
    "celcius=int(input())"
   ]
  },
  {
   "cell_type": "code",
   "execution_count": 14,
   "id": "922f74b3",
   "metadata": {},
   "outputs": [],
   "source": [
    "fahrenheit=(celcius*(9/5))+32"
   ]
  },
  {
   "cell_type": "code",
   "execution_count": 15,
   "id": "edbb6826",
   "metadata": {},
   "outputs": [
    {
     "name": "stdout",
     "output_type": "stream",
     "text": [
      "the converted value is 89.6 Fahrenheit\n"
     ]
    }
   ],
   "source": [
    "print(\"the converted value is\",fahrenheit,\"Fahrenheit\")"
   ]
  },
  {
   "cell_type": "code",
   "execution_count": 16,
   "id": "079e0be3",
   "metadata": {},
   "outputs": [],
   "source": [
    "#String"
   ]
  },
  {
   "cell_type": "code",
   "execution_count": 17,
   "id": "55890ca3",
   "metadata": {},
   "outputs": [],
   "source": [
    "#Write a Python program that takes a string as input and prints the length of the string."
   ]
  },
  {
   "cell_type": "code",
   "execution_count": 18,
   "id": "4c942dc3",
   "metadata": {},
   "outputs": [
    {
     "name": "stdout",
     "output_type": "stream",
     "text": [
      "Enter a string:basket\n"
     ]
    }
   ],
   "source": [
    "string=input(\"Enter a string:\")"
   ]
  },
  {
   "cell_type": "code",
   "execution_count": 19,
   "id": "5abc4471",
   "metadata": {},
   "outputs": [
    {
     "data": {
      "text/plain": [
       "6"
      ]
     },
     "execution_count": 19,
     "metadata": {},
     "output_type": "execute_result"
    }
   ],
   "source": [
    "len(string)"
   ]
  },
  {
   "cell_type": "code",
   "execution_count": 20,
   "id": "ea501bf8",
   "metadata": {},
   "outputs": [],
   "source": [
    "#2. Create a program that takes a sentence from the user and counts the number of vowels (a, e, i, o, u) in the string."
   ]
  },
  {
   "cell_type": "code",
   "execution_count": 21,
   "id": "e7e2fb19",
   "metadata": {},
   "outputs": [
    {
     "name": "stdout",
     "output_type": "stream",
     "text": [
      "Enter a sentence:hello world I am here\n"
     ]
    }
   ],
   "source": [
    "sentence=input(\"Enter a sentence:\")"
   ]
  },
  {
   "cell_type": "code",
   "execution_count": 22,
   "id": "dd877ea6",
   "metadata": {},
   "outputs": [],
   "source": [
    "sentence_lower=sentence.lower()"
   ]
  },
  {
   "cell_type": "code",
   "execution_count": 23,
   "id": "65cdd411",
   "metadata": {},
   "outputs": [],
   "source": [
    "vowel=\"aeiou\""
   ]
  },
  {
   "cell_type": "code",
   "execution_count": 24,
   "id": "9f9200da",
   "metadata": {},
   "outputs": [],
   "source": [
    "count=0\n",
    "for i in sentence_lower:\n",
    "    if i in vowel:\n",
    "        count=count+1"
   ]
  },
  {
   "cell_type": "code",
   "execution_count": 25,
   "id": "cdc2a8ec",
   "metadata": {},
   "outputs": [
    {
     "name": "stdout",
     "output_type": "stream",
     "text": [
      "number of vowels in given string: 7\n"
     ]
    }
   ],
   "source": [
    "print(\"number of vowels in given string:\",count)"
   ]
  },
  {
   "cell_type": "code",
   "execution_count": 26,
   "id": "91dd842c",
   "metadata": {},
   "outputs": [],
   "source": [
    "#Given a string, reverse the order of characters using string slicing and print the reversed string."
   ]
  },
  {
   "cell_type": "code",
   "execution_count": 27,
   "id": "24fa1497",
   "metadata": {},
   "outputs": [
    {
     "name": "stdout",
     "output_type": "stream",
     "text": [
      "Enter a word:Hello\n"
     ]
    }
   ],
   "source": [
    "string1=input(\"Enter a word:\")"
   ]
  },
  {
   "cell_type": "code",
   "execution_count": 34,
   "id": "68161bc3",
   "metadata": {},
   "outputs": [
    {
     "data": {
      "text/plain": [
       "'olleH'"
      ]
     },
     "execution_count": 34,
     "metadata": {},
     "output_type": "execute_result"
    }
   ],
   "source": [
    "string1[::-1]"
   ]
  },
  {
   "cell_type": "code",
   "execution_count": 29,
   "id": "279d785b",
   "metadata": {},
   "outputs": [],
   "source": [
    "#Write a program that takes a string as input and checks if it is a palindrome"
   ]
  },
  {
   "cell_type": "code",
   "execution_count": 30,
   "id": "a8d9c834",
   "metadata": {},
   "outputs": [
    {
     "name": "stdout",
     "output_type": "stream",
     "text": [
      "Enter a string:civic\n"
     ]
    }
   ],
   "source": [
    "s=input(\"Enter a string:\")"
   ]
  },
  {
   "cell_type": "code",
   "execution_count": 39,
   "id": "539221aa",
   "metadata": {},
   "outputs": [
    {
     "name": "stdout",
     "output_type": "stream",
     "text": [
      "Palindrome\n"
     ]
    }
   ],
   "source": [
    "reverse_s=s[::-1]\n",
    "if reverse_s==s:\n",
    "    print(\"Palindrome\")\n",
    "else:\n",
    "    print(\"Not Palindrome\")"
   ]
  },
  {
   "cell_type": "code",
   "execution_count": 40,
   "id": "db07b8b6",
   "metadata": {},
   "outputs": [],
   "source": [
    "#Create a program that takes a string as input and removes all the spaces from it. Print the modified string without spaces."
   ]
  },
  {
   "cell_type": "code",
   "execution_count": 41,
   "id": "db571565",
   "metadata": {},
   "outputs": [
    {
     "name": "stdout",
     "output_type": "stream",
     "text": [
      "Enter a sentence:Hi I am Here\n"
     ]
    }
   ],
   "source": [
    "str2=input(\"Enter a sentence:\")"
   ]
  },
  {
   "cell_type": "code",
   "execution_count": 43,
   "id": "97eb3831",
   "metadata": {},
   "outputs": [],
   "source": [
    "s2=str2.replace(\" \",\"\")"
   ]
  },
  {
   "cell_type": "code",
   "execution_count": 44,
   "id": "e8bf11d3",
   "metadata": {},
   "outputs": [
    {
     "name": "stdout",
     "output_type": "stream",
     "text": [
      "HiIamHere\n"
     ]
    }
   ],
   "source": [
    "print(s2)"
   ]
  }
 ],
 "metadata": {
  "kernelspec": {
   "display_name": "Python 3 (ipykernel)",
   "language": "python",
   "name": "python3"
  },
  "language_info": {
   "codemirror_mode": {
    "name": "ipython",
    "version": 3
   },
   "file_extension": ".py",
   "mimetype": "text/x-python",
   "name": "python",
   "nbconvert_exporter": "python",
   "pygments_lexer": "ipython3",
   "version": "3.11.5"
  }
 },
 "nbformat": 4,
 "nbformat_minor": 5
}
